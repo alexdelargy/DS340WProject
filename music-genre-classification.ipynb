{
 "cells": [
  {
   "cell_type": "markdown",
   "metadata": {},
   "source": [
    "# Scripts related to venv\n",
    "### Open a terminal\n",
    "- .venv\\Scripts\\activate\n",
    "- py -m pip install --upgrade pip\n",
    "- py -m pip install requests\n",
    "- py -m pip freeze > requirements.txt\n",
    "- py -m pip install -r requirements.txt\n",
    "\n",
    "# AWS Article\n",
    "- https://induraj2020.medium.com/how-to-access-the-s3-bucket-using-python-ecdbe5ebc45f"
   ]
  },
  {
   "cell_type": "markdown",
   "metadata": {},
   "source": [
    "# Music Genre Classification\n",
    "In this notebook I tried to learn the basic concepts of neural networks and use it to classify the music files in dataset. Majorly this notebook can be divided into 3 parts:\n",
    "\n",
    "   1) Using ANN \n",
    "\n",
    "   2) Tackling overfitting with ANN\n",
    "\n",
    "   3) Using CNN\n",
    "\n",
    "\n",
    "Also to read the dataset I have used librosa library which only read files <1Mb and one file is greater than the size giving error due to which I have ignored it. The dataset contains the following genres, the keys being the prediction targets\n",
    "    \n",
    "    0: \"disco\",\n",
    "    1: \"metal\",\n",
    "    2: \"reggae\",\n",
    "    3: \"blues\",\n",
    "    4: \"rock\",\n",
    "    5: \"classical\",\n",
    "    6: \"jazz\",\n",
    "    7: \"hiphop\",\n",
    "    8: \"country\",\n",
    "    9: \"pop\"\n"
   ]
  },
  {
   "cell_type": "code",
   "execution_count": 1,
   "metadata": {
    "_cell_guid": "01a50213-fe5d-431b-9ade-28c438b3bceb",
    "_uuid": "f32a1031-9332-42b6-8335-dee2b86310a3",
    "jupyter": {
     "outputs_hidden": false
    }
   },
   "outputs": [],
   "source": [
    "import os\n",
    "import librosa\n",
    "import boto3\n",
    "import math\n",
    "import json \n",
    "import matplotlib.pyplot as plt\n",
    "import io\n",
    "import numpy as np\n",
    "import warnings \n",
    "import requests\n",
    "import pandas as pd\n",
    "warnings.filterwarnings(\"ignore\")"
   ]
  },
  {
   "cell_type": "code",
   "execution_count": 2,
   "metadata": {
    "_cell_guid": "e1ba8988-65f9-4697-a731-e71b25dd171b",
    "_uuid": "d401d5fb-ea22-4562-bc1b-e882f59016ce",
    "jupyter": {
     "outputs_hidden": false
    }
   },
   "outputs": [],
   "source": [
    "dataset_path = r\"Data/genres_original\"\n",
    "json_path = r\"data.json\"\n",
    "SAMPLE_RATE = 22050\n",
    "DURATION = 30\n",
    "SAMPLES_PER_TRACK = SAMPLE_RATE * DURATION"
   ]
  },
  {
   "cell_type": "code",
   "execution_count": 3,
   "metadata": {
    "_cell_guid": "f0f0a6db-b7e9-468f-890f-36312fe994e7",
    "_uuid": "c44ee71f-62e4-4100-8e2b-d2a84b01cf8e",
    "jupyter": {
     "outputs_hidden": false
    }
   },
   "outputs": [],
   "source": [
    "def save_mfcc(bucket_name, dataset_path, json_path, n_mfcc=13, n_fft=2048,\n",
    "                 hop_length=512, num_segments=5):\n",
    "    # Initialize S3 client\n",
    "    s3 = boto3.client('s3')\n",
    "    \n",
    "    # Data storage dictionary\n",
    "    data = {\n",
    "        \"mapping\": [],\n",
    "        \"mfcc\": [],\n",
    "        \"labels\": [],\n",
    "    }\n",
    "    samples_ps = int(SAMPLES_PER_TRACK / num_segments)  # ps = per segment\n",
    "    expected_vects_ps = math.ceil(samples_ps / hop_length)\n",
    "    \n",
    "    # Paginator to handle large lists of objects\n",
    "    paginator = s3.get_paginator('list_objects_v2')\n",
    "    \n",
    "    # Loop through each \"genre\" folder in S3\n",
    "    for i, page in enumerate(paginator.paginate(Bucket=bucket_name, Prefix=dataset_path)):\n",
    "        if 'Contents' not in page:\n",
    "            continue\n",
    "\n",
    "        for obj in page['Contents']:\n",
    "            file_key = obj['Key']\n",
    "            # Filter to include only `.wav` files and exclude specific files\n",
    "            if file_key.endswith(\".wav\") and not file_key.endswith(\"jazz.00054.wav\"):\n",
    "                # Split to get the genre label\n",
    "                path_parts = file_key.split('/')\n",
    "                if len(path_parts) < 2:\n",
    "                    continue\n",
    "                genre_label = path_parts[-2]\n",
    "                \n",
    "                if genre_label not in data[\"mapping\"]:\n",
    "                    data[\"mapping\"].append(genre_label)\n",
    "                    print(f\"Processing genre: {genre_label}\")\n",
    "\n",
    "                # Load audio file from S3\n",
    "                audio_data = s3.get_object(Bucket=bucket_name, Key=file_key)['Body'].read()\n",
    "                signal, sr = librosa.load(io.BytesIO(audio_data), sr=SAMPLE_RATE)\n",
    "\n",
    "                # Process each segment\n",
    "                for s in range(num_segments):\n",
    "                    start_sample = samples_ps * s\n",
    "                    finish_sample = start_sample + samples_ps\n",
    "\n",
    "                    mfcc = librosa.feature.mfcc(y=signal[start_sample:finish_sample],\n",
    "                                                sr=sr,\n",
    "                                                n_fft=n_fft,\n",
    "                                                n_mfcc=n_mfcc,\n",
    "                                                hop_length=hop_length)\n",
    "\n",
    "                    mfcc = mfcc.T  # Transpose for easier storage\n",
    "\n",
    "                    # Store MFCC if it has expected length\n",
    "                    if len(mfcc) == expected_vects_ps:\n",
    "                        data[\"mfcc\"].append(mfcc.tolist())\n",
    "                        data[\"labels\"].append(data[\"mapping\"].index(genre_label))\n",
    "                        print(f\"{file_key}, segment: {s+1}\")\n",
    "\n",
    "    # Save the data to a JSON file locally\n",
    "    with open(json_path, \"w\") as f:\n",
    "        json.dump(data, f, indent=4)\n",
    "    print(f\"Data saved to {json_path}\")\n"
   ]
  },
  {
   "cell_type": "code",
   "execution_count": 4,
   "metadata": {},
   "outputs": [],
   "source": [
    "from IPython.display import clear_output"
   ]
  },
  {
   "cell_type": "code",
   "execution_count": 5,
   "metadata": {},
   "outputs": [],
   "source": [
    "save_mfcc(bucket_name='flights12345', dataset_path=dataset_path, json_path=json_path, num_segments=10)\n",
    "clear_output()"
   ]
  },
  {
   "cell_type": "markdown",
   "metadata": {},
   "source": [
    "# Classifier\n",
    "This part uses the concepts of ANN with keras and sequential layers. I have also done splitting in the ratio 70:30\n",
    "\n",
    "The model is Sequential and architecture only has Flatten and the Dense layers available in keras for the basic ANN representation. As it is naive model we can expect it to be overfit. Info on the layers can be found [here](https://machinelearningknowledge.ai/different-types-of-keras-layers-explained-for-beginners/)"
   ]
  },
  {
   "cell_type": "code",
   "execution_count": 6,
   "metadata": {},
   "outputs": [],
   "source": [
    "# load data\n",
    "def load_data(dataset_path):\n",
    "    with open(dataset_path,\"r\") as f:\n",
    "        data = json.load(f)\n",
    "    \n",
    "    # Convert list to numpy arrays\n",
    "    inputs = np.array(data[\"mfcc\"])\n",
    "    targets = np.array(data[\"labels\"])\n",
    "    \n",
    "    return inputs,targets"
   ]
  },
  {
   "cell_type": "code",
   "execution_count": 7,
   "metadata": {},
   "outputs": [],
   "source": [
    "inputs,targets = load_data(r\"./data.json\")"
   ]
  },
  {
   "cell_type": "code",
   "execution_count": 8,
   "metadata": {},
   "outputs": [
    {
     "name": "stdout",
     "output_type": "stream",
     "text": [
      "(6990, 130, 13) (6990,)\n"
     ]
    }
   ],
   "source": [
    "# splitting the data\n",
    "from sklearn.model_selection import train_test_split\n",
    "\n",
    "input_train, input_test, target_train, target_test = train_test_split(inputs, targets, test_size=0.3)\n",
    "print(input_train.shape, target_train.shape)"
   ]
  },
  {
   "cell_type": "code",
   "execution_count": 9,
   "metadata": {},
   "outputs": [],
   "source": [
    "from tensorflow.keras import Sequential\n",
    "from tensorflow.keras.layers import * "
   ]
  },
  {
   "cell_type": "code",
   "execution_count": 10,
   "metadata": {},
   "outputs": [
    {
     "data": {
      "text/html": [
       "<pre style=\"white-space:pre;overflow-x:auto;line-height:normal;font-family:Menlo,'DejaVu Sans Mono',consolas,'Courier New',monospace\"><span style=\"font-weight: bold\">Model: \"sequential\"</span>\n",
       "</pre>\n"
      ],
      "text/plain": [
       "\u001b[1mModel: \"sequential\"\u001b[0m\n"
      ]
     },
     "metadata": {},
     "output_type": "display_data"
    },
    {
     "data": {
      "text/html": [
       "<pre style=\"white-space:pre;overflow-x:auto;line-height:normal;font-family:Menlo,'DejaVu Sans Mono',consolas,'Courier New',monospace\">┏━━━━━━━━━━━━━━━━━━━━━━━━━━━━━━━━━┳━━━━━━━━━━━━━━━━━━━━━━━━┳━━━━━━━━━━━━━━━┓\n",
       "┃<span style=\"font-weight: bold\"> Layer (type)                    </span>┃<span style=\"font-weight: bold\"> Output Shape           </span>┃<span style=\"font-weight: bold\">       Param # </span>┃\n",
       "┡━━━━━━━━━━━━━━━━━━━━━━━━━━━━━━━━━╇━━━━━━━━━━━━━━━━━━━━━━━━╇━━━━━━━━━━━━━━━┩\n",
       "│ flatten (<span style=\"color: #0087ff; text-decoration-color: #0087ff\">Flatten</span>)               │ (<span style=\"color: #00d7ff; text-decoration-color: #00d7ff\">None</span>, <span style=\"color: #00af00; text-decoration-color: #00af00\">1690</span>)           │             <span style=\"color: #00af00; text-decoration-color: #00af00\">0</span> │\n",
       "├─────────────────────────────────┼────────────────────────┼───────────────┤\n",
       "│ dense (<span style=\"color: #0087ff; text-decoration-color: #0087ff\">Dense</span>)                   │ (<span style=\"color: #00d7ff; text-decoration-color: #00d7ff\">None</span>, <span style=\"color: #00af00; text-decoration-color: #00af00\">512</span>)            │       <span style=\"color: #00af00; text-decoration-color: #00af00\">865,792</span> │\n",
       "├─────────────────────────────────┼────────────────────────┼───────────────┤\n",
       "│ dense_1 (<span style=\"color: #0087ff; text-decoration-color: #0087ff\">Dense</span>)                 │ (<span style=\"color: #00d7ff; text-decoration-color: #00d7ff\">None</span>, <span style=\"color: #00af00; text-decoration-color: #00af00\">256</span>)            │       <span style=\"color: #00af00; text-decoration-color: #00af00\">131,328</span> │\n",
       "├─────────────────────────────────┼────────────────────────┼───────────────┤\n",
       "│ dense_2 (<span style=\"color: #0087ff; text-decoration-color: #0087ff\">Dense</span>)                 │ (<span style=\"color: #00d7ff; text-decoration-color: #00d7ff\">None</span>, <span style=\"color: #00af00; text-decoration-color: #00af00\">64</span>)             │        <span style=\"color: #00af00; text-decoration-color: #00af00\">16,448</span> │\n",
       "├─────────────────────────────────┼────────────────────────┼───────────────┤\n",
       "│ dense_3 (<span style=\"color: #0087ff; text-decoration-color: #0087ff\">Dense</span>)                 │ (<span style=\"color: #00d7ff; text-decoration-color: #00d7ff\">None</span>, <span style=\"color: #00af00; text-decoration-color: #00af00\">10</span>)             │           <span style=\"color: #00af00; text-decoration-color: #00af00\">650</span> │\n",
       "└─────────────────────────────────┴────────────────────────┴───────────────┘\n",
       "</pre>\n"
      ],
      "text/plain": [
       "┏━━━━━━━━━━━━━━━━━━━━━━━━━━━━━━━━━┳━━━━━━━━━━━━━━━━━━━━━━━━┳━━━━━━━━━━━━━━━┓\n",
       "┃\u001b[1m \u001b[0m\u001b[1mLayer (type)                   \u001b[0m\u001b[1m \u001b[0m┃\u001b[1m \u001b[0m\u001b[1mOutput Shape          \u001b[0m\u001b[1m \u001b[0m┃\u001b[1m \u001b[0m\u001b[1m      Param #\u001b[0m\u001b[1m \u001b[0m┃\n",
       "┡━━━━━━━━━━━━━━━━━━━━━━━━━━━━━━━━━╇━━━━━━━━━━━━━━━━━━━━━━━━╇━━━━━━━━━━━━━━━┩\n",
       "│ flatten (\u001b[38;5;33mFlatten\u001b[0m)               │ (\u001b[38;5;45mNone\u001b[0m, \u001b[38;5;34m1690\u001b[0m)           │             \u001b[38;5;34m0\u001b[0m │\n",
       "├─────────────────────────────────┼────────────────────────┼───────────────┤\n",
       "│ dense (\u001b[38;5;33mDense\u001b[0m)                   │ (\u001b[38;5;45mNone\u001b[0m, \u001b[38;5;34m512\u001b[0m)            │       \u001b[38;5;34m865,792\u001b[0m │\n",
       "├─────────────────────────────────┼────────────────────────┼───────────────┤\n",
       "│ dense_1 (\u001b[38;5;33mDense\u001b[0m)                 │ (\u001b[38;5;45mNone\u001b[0m, \u001b[38;5;34m256\u001b[0m)            │       \u001b[38;5;34m131,328\u001b[0m │\n",
       "├─────────────────────────────────┼────────────────────────┼───────────────┤\n",
       "│ dense_2 (\u001b[38;5;33mDense\u001b[0m)                 │ (\u001b[38;5;45mNone\u001b[0m, \u001b[38;5;34m64\u001b[0m)             │        \u001b[38;5;34m16,448\u001b[0m │\n",
       "├─────────────────────────────────┼────────────────────────┼───────────────┤\n",
       "│ dense_3 (\u001b[38;5;33mDense\u001b[0m)                 │ (\u001b[38;5;45mNone\u001b[0m, \u001b[38;5;34m10\u001b[0m)             │           \u001b[38;5;34m650\u001b[0m │\n",
       "└─────────────────────────────────┴────────────────────────┴───────────────┘\n"
      ]
     },
     "metadata": {},
     "output_type": "display_data"
    },
    {
     "data": {
      "text/html": [
       "<pre style=\"white-space:pre;overflow-x:auto;line-height:normal;font-family:Menlo,'DejaVu Sans Mono',consolas,'Courier New',monospace\"><span style=\"font-weight: bold\"> Total params: </span><span style=\"color: #00af00; text-decoration-color: #00af00\">1,014,218</span> (3.87 MB)\n",
       "</pre>\n"
      ],
      "text/plain": [
       "\u001b[1m Total params: \u001b[0m\u001b[38;5;34m1,014,218\u001b[0m (3.87 MB)\n"
      ]
     },
     "metadata": {},
     "output_type": "display_data"
    },
    {
     "data": {
      "text/html": [
       "<pre style=\"white-space:pre;overflow-x:auto;line-height:normal;font-family:Menlo,'DejaVu Sans Mono',consolas,'Courier New',monospace\"><span style=\"font-weight: bold\"> Trainable params: </span><span style=\"color: #00af00; text-decoration-color: #00af00\">1,014,218</span> (3.87 MB)\n",
       "</pre>\n"
      ],
      "text/plain": [
       "\u001b[1m Trainable params: \u001b[0m\u001b[38;5;34m1,014,218\u001b[0m (3.87 MB)\n"
      ]
     },
     "metadata": {},
     "output_type": "display_data"
    },
    {
     "data": {
      "text/html": [
       "<pre style=\"white-space:pre;overflow-x:auto;line-height:normal;font-family:Menlo,'DejaVu Sans Mono',consolas,'Courier New',monospace\"><span style=\"font-weight: bold\"> Non-trainable params: </span><span style=\"color: #00af00; text-decoration-color: #00af00\">0</span> (0.00 B)\n",
       "</pre>\n"
      ],
      "text/plain": [
       "\u001b[1m Non-trainable params: \u001b[0m\u001b[38;5;34m0\u001b[0m (0.00 B)\n"
      ]
     },
     "metadata": {},
     "output_type": "display_data"
    }
   ],
   "source": [
    "model = Sequential()\n",
    "\n",
    "model.add(Flatten(input_shape=(inputs.shape[1],inputs.shape[2])))\n",
    "model.add(Dense(512, activation='relu'))\n",
    "model.add(Dense(256, activation='relu'))\n",
    "model.add(Dense(64, activation='relu'))\n",
    "model.add(Dense(10, activation='softmax'))\n",
    "model.summary()"
   ]
  },
  {
   "cell_type": "code",
   "execution_count": 14,
   "metadata": {},
   "outputs": [],
   "source": [
    "from tensorflow.keras import optimizers\n",
    "adam = optimizers.Adam(learning_rate=1e-4)"
   ]
  },
  {
   "cell_type": "code",
   "execution_count": 15,
   "metadata": {},
   "outputs": [],
   "source": [
    "model.compile(optimizer=adam,\n",
    "             loss=\"sparse_categorical_crossentropy\",\n",
    "             metrics=[\"accuracy\"])"
   ]
  },
  {
   "cell_type": "code",
   "execution_count": 16,
   "metadata": {},
   "outputs": [],
   "source": [
    "model.compile(optimizer=adam,\n",
    "             loss=\"sparse_categorical_crossentropy\",\n",
    "             metrics=[\"accuracy\"])\n",
    "\n",
    "hist = model.fit(input_train, target_train,\n",
    "                 validation_data = (input_test,target_test),\n",
    "                 epochs = 50,\n",
    "                 batch_size = 32)\n",
    "clear_output()"
   ]
  },
  {
   "cell_type": "code",
   "execution_count": 17,
   "metadata": {},
   "outputs": [],
   "source": [
    "def plot_history(hist):\n",
    "    plt.figure(figsize=(20,15))\n",
    "    fig, axs = plt.subplots(2)\n",
    "    # accuracy subplot\n",
    "    axs[0].plot(hist.history[\"accuracy\"], label=\"train accuracy\")\n",
    "    axs[0].plot(hist.history[\"val_accuracy\"], label=\"test accuracy\")    \n",
    "    axs[0].set_ylabel(\"Accuracy\")\n",
    "    axs[0].legend(loc=\"lower right\")\n",
    "    axs[0].set_title(\"Accuracy eval\")\n",
    "    \n",
    "    # Error subplot\n",
    "    axs[1].plot(hist.history[\"loss\"], label=\"train error\")\n",
    "    axs[1].plot(hist.history[\"val_loss\"], label=\"test error\")    \n",
    "    axs[1].set_ylabel(\"Error\")\n",
    "    axs[1].set_xlabel(\"Epoch\")\n",
    "    axs[1].legend(loc=\"upper right\")\n",
    "    axs[1].set_title(\"Error eval\")\n",
    "    \n",
    "    plt.show()"
   ]
  },
  {
   "cell_type": "code",
   "execution_count": 18,
   "metadata": {},
   "outputs": [
    {
     "data": {
      "text/plain": [
       "<Figure size 1440x1080 with 0 Axes>"
      ]
     },
     "metadata": {},
     "output_type": "display_data"
    },
    {
     "data": {
      "image/png": "[encoded data removed]",
      "text/plain": [
       "<Figure size 432x288 with 2 Axes>"
      ]
     },
     "metadata": {
      "needs_background": "light"
     },
     "output_type": "display_data"
    }
   ],
   "source": [
    "plot_history(hist)"
   ]
  },
  {
   "cell_type": "code",
   "execution_count": 19,
   "metadata": {},
   "outputs": [
    {
     "name": "stdout",
     "output_type": "stream",
     "text": [
      "94/94 [==============================] - 0s 2ms/step - loss: 2.6782 - accuracy: 0.5854\n",
      "Test accuracy: 0.5854472517967224\n"
     ]
    }
   ],
   "source": [
    "test_error, test_accuracy = model.evaluate(input_test, target_test, verbose=1)\n",
    "print(f\"Test accuracy: {test_accuracy}\")"
   ]
  },
  {
   "cell_type": "markdown",
   "metadata": {},
   "source": [
    "# Overfitting\n",
    "This part deals with the overfitting of the previous model. We can deal with it by majorly doing the following process.\n",
    "- Making architecture less complicated \n",
    "- Using augmented data\n",
    "- Early stopping of training\n",
    "- Adding dropout layers\n",
    "- Regularization / Standardization  \n",
    "\n",
    "I have added the dropout layers and kernel_regularizers as compared to previous naive model giving the dropout probability as 30%\n",
    "Kernel_regularizers is one of the 3 type of regularizer used to impose penalties. More info can be found [here](https://medium.com/@robertjohn_15390/regularization-in-tensorflow-using-keras-api-48aba746ae21)"
   ]
  },
  {
   "cell_type": "code",
   "execution_count": 20,
   "metadata": {},
   "outputs": [],
   "source": [
    "import tensorflow.keras as keras"
   ]
  },
  {
   "cell_type": "code",
   "execution_count": 21,
   "metadata": {},
   "outputs": [
    {
     "name": "stdout",
     "output_type": "stream",
     "text": [
      "Model: \"sequential_1\"\n",
      "_________________________________________________________________\n",
      " Layer (type)                Output Shape              Param #   \n",
      "=================================================================\n",
      " flatten_1 (Flatten)         (None, 1690)              0         \n",
      "                                                                 \n",
      " dense_4 (Dense)             (None, 512)               865792    \n",
      "                                                                 \n",
      " dropout (Dropout)           (None, 512)               0         \n",
      "                                                                 \n",
      " dense_5 (Dense)             (None, 256)               131328    \n",
      "                                                                 \n",
      " dropout_1 (Dropout)         (None, 256)               0         \n",
      "                                                                 \n",
      " dense_6 (Dense)             (None, 64)                16448     \n",
      "                                                                 \n",
      " dropout_2 (Dropout)         (None, 64)                0         \n",
      "                                                                 \n",
      " dense_7 (Dense)             (None, 32)                2080      \n",
      "                                                                 \n",
      " dense_8 (Dense)             (None, 10)                330       \n",
      "                                                                 \n",
      "=================================================================\n",
      "Total params: 1,015,978\n",
      "Trainable params: 1,015,978\n",
      "Non-trainable params: 0\n",
      "_________________________________________________________________\n"
     ]
    }
   ],
   "source": [
    "# Overfitting\n",
    "model = Sequential()\n",
    "\n",
    "model.add(Flatten(input_shape=(inputs.shape[1],inputs.shape[2])))\n",
    "model.add(Dense(512, activation='relu', kernel_regularizer = keras.regularizers.l2(0.001)))\n",
    "model.add(Dropout(0.3))\n",
    "model.add(Dense(256, activation='relu', kernel_regularizer = keras.regularizers.l2(0.003)))\n",
    "model.add(Dropout(0.3))\n",
    "model.add(Dense(64, activation='relu', kernel_regularizer = keras.regularizers.l2(0.01)))\n",
    "model.add(Dropout(0.3))\n",
    "model.add(Dense(32, activation='relu'))\n",
    "model.add(Dense(10, activation='softmax'))\n",
    "model.summary()"
   ]
  },
  {
   "cell_type": "code",
   "execution_count": 22,
   "metadata": {},
   "outputs": [],
   "source": [
    "optimizer = optimizers.Adam()\n",
    "optimizer.build(model.trainable_variables)\n",
    "\n",
    "model.compile(optimizer=optimizer,\n",
    "             loss=\"sparse_categorical_crossentropy\",\n",
    "             metrics=[\"accuracy\"])\n",
    "\n",
    "\n",
    "hist = model.fit(input_train, target_train,\n",
    "                 validation_data = (input_test,target_test),\n",
    "                 epochs = 50,\n",
    "                 batch_size = 32)\n",
    "\n",
    "clear_output()"
   ]
  },
  {
   "cell_type": "code",
   "execution_count": 23,
   "metadata": {},
   "outputs": [
    {
     "data": {
      "text/plain": [
       "<Figure size 1440x1080 with 0 Axes>"
      ]
     },
     "metadata": {},
     "output_type": "display_data"
    },
    {
     "data": {
      "image/png": "[encoded data removed]",
      "text/plain": [
       "<Figure size 432x288 with 2 Axes>"
      ]
     },
     "metadata": {
      "needs_background": "light"
     },
     "output_type": "display_data"
    }
   ],
   "source": [
    "plot_history(hist)"
   ]
  },
  {
   "cell_type": "code",
   "execution_count": 24,
   "metadata": {},
   "outputs": [
    {
     "name": "stdout",
     "output_type": "stream",
     "text": [
      "94/94 [==============================] - 0s 2ms/step - loss: 1.8165 - accuracy: 0.4002\n",
      "Test accuracy: 0.4002002775669098\n"
     ]
    }
   ],
   "source": [
    "test_error, test_accuracy = model.evaluate(input_test, target_test, verbose=1)\n",
    "print(f\"Test accuracy: {test_accuracy}\")"
   ]
  },
  {
   "cell_type": "markdown",
   "metadata": {},
   "source": [
    "We can see that the overfitting is greatly reduced but still we are not able to get a good accuracy. Now we will try doing it with Convolutional Neural Network (CNN)"
   ]
  },
  {
   "cell_type": "markdown",
   "metadata": {},
   "source": [
    "# CNN\n",
    "Using keras layers of Conv2D, MaxPool2D, BatchNormalization.\n",
    "\n",
    "CNN layers takes input primarily in 3D shape, so we again have to prepare the dataset in the form and for that, I have used np.newaxis function which adds a column/layer in the data"
   ]
  },
  {
   "cell_type": "code",
   "execution_count": 25,
   "metadata": {},
   "outputs": [],
   "source": [
    "def prepare_dataset(test_size, validation_size):\n",
    "    X,y = load_data(r\"./data.json\")\n",
    "    \n",
    "    X_train, X_test, y_train, y_test = train_test_split(X, y, test_size = test_size)\n",
    "    X_train, X_val, y_train, y_val = train_test_split(X_train, y_train, test_size = validation_size)\n",
    "    X_train = X_train[..., np.newaxis]\n",
    "    X_val = X_val[..., np.newaxis]\n",
    "    X_test = X_test[..., np.newaxis]\n",
    "\n",
    "    return X_train, X_val, X_test, y_train, y_val, y_test"
   ]
  },
  {
   "cell_type": "code",
   "execution_count": 26,
   "metadata": {},
   "outputs": [],
   "source": [
    "X_train, X_val, X_test, y_train, y_val, y_test = prepare_dataset(0.25, 0.2)"
   ]
  },
  {
   "cell_type": "code",
   "execution_count": 27,
   "metadata": {},
   "outputs": [
    {
     "name": "stdout",
     "output_type": "stream",
     "text": [
      "(130, 13, 1)\n"
     ]
    }
   ],
   "source": [
    "input_shape = (X_train.shape[1],X_train.shape[2],X_train.shape[3])\n",
    "print(input_shape)"
   ]
  },
  {
   "cell_type": "code",
   "execution_count": 28,
   "metadata": {},
   "outputs": [
    {
     "name": "stdout",
     "output_type": "stream",
     "text": [
      "Model: \"sequential_2\"\n",
      "_________________________________________________________________\n",
      " Layer (type)                Output Shape              Param #   \n",
      "=================================================================\n",
      " conv2d (Conv2D)             (None, 128, 11, 64)       640       \n",
      "                                                                 \n",
      " max_pooling2d (MaxPooling2D  (None, 64, 6, 64)        0         \n",
      " )                                                               \n",
      "                                                                 \n",
      " batch_normalization (BatchN  (None, 64, 6, 64)        256       \n",
      " ormalization)                                                   \n",
      "                                                                 \n",
      " conv2d_1 (Conv2D)           (None, 62, 4, 32)         18464     \n",
      "                                                                 \n",
      " max_pooling2d_1 (MaxPooling  (None, 31, 2, 32)        0         \n",
      " 2D)                                                             \n",
      "                                                                 \n",
      " batch_normalization_1 (Batc  (None, 31, 2, 32)        128       \n",
      " hNormalization)                                                 \n",
      "                                                                 \n",
      " conv2d_2 (Conv2D)           (None, 30, 1, 32)         4128      \n",
      "                                                                 \n",
      " max_pooling2d_2 (MaxPooling  (None, 15, 1, 32)        0         \n",
      " 2D)                                                             \n",
      "                                                                 \n",
      " batch_normalization_2 (Batc  (None, 15, 1, 32)        128       \n",
      " hNormalization)                                                 \n",
      "                                                                 \n",
      " conv2d_3 (Conv2D)           (None, 15, 1, 16)         528       \n",
      "                                                                 \n",
      " max_pooling2d_3 (MaxPooling  (None, 8, 1, 16)         0         \n",
      " 2D)                                                             \n",
      "                                                                 \n",
      " batch_normalization_3 (Batc  (None, 8, 1, 16)         64        \n",
      " hNormalization)                                                 \n",
      "                                                                 \n",
      " flatten_2 (Flatten)         (None, 128)               0         \n",
      "                                                                 \n",
      " dense_9 (Dense)             (None, 64)                8256      \n",
      "                                                                 \n",
      " dropout_3 (Dropout)         (None, 64)                0         \n",
      "                                                                 \n",
      " dense_10 (Dense)            (None, 10)                650       \n",
      "                                                                 \n",
      "=================================================================\n",
      "Total params: 33,242\n",
      "Trainable params: 32,954\n",
      "Non-trainable params: 288\n",
      "_________________________________________________________________\n"
     ]
    }
   ],
   "source": [
    "model = Sequential()\n",
    "model.add(Conv2D(64, (3, 3), activation = \"relu\", input_shape = input_shape))\n",
    "model.add(MaxPool2D((3, 3), strides=(2, 2), padding=\"same\"))\n",
    "model.add(BatchNormalization())\n",
    "\n",
    "model.add(Conv2D(32, (3, 3), activation = \"relu\"))\n",
    "model.add(MaxPool2D((3, 3), strides=(2, 2), padding=\"same\"))\n",
    "model.add(BatchNormalization())\n",
    "\n",
    "model.add(Conv2D(32, (2, 2), activation = \"relu\"))\n",
    "model.add(MaxPool2D((2, 2), strides=(2, 2), padding=\"same\"))\n",
    "model.add(BatchNormalization())\n",
    "\n",
    "model.add(Conv2D(16, (1, 1), activation = \"relu\"))\n",
    "model.add(MaxPool2D((1, 1), strides=(2, 2), padding=\"same\"))\n",
    "model.add(BatchNormalization())\n",
    "\n",
    "model.add(Flatten())\n",
    "model.add(Dense(64, activation=\"relu\"))\n",
    "model.add(Dropout(0.3))\n",
    "model.add(Dense(10, activation=\"softmax\"))\n",
    "\n",
    "model.summary()"
   ]
  },
  {
   "cell_type": "code",
   "execution_count": 29,
   "metadata": {},
   "outputs": [
    {
     "name": "stdout",
     "output_type": "stream",
     "text": [
      "Epoch 1/40\n",
      "188/188 [==============================] - 11s 50ms/step - loss: 1.8397 - accuracy: 0.3575 - val_loss: 1.4147 - val_accuracy: 0.4686\n",
      "Epoch 2/40\n",
      "188/188 [==============================] - 9s 47ms/step - loss: 1.3474 - accuracy: 0.5116 - val_loss: 1.1489 - val_accuracy: 0.5895\n",
      "Epoch 3/40\n",
      "188/188 [==============================] - 9s 48ms/step - loss: 1.1772 - accuracy: 0.5817 - val_loss: 1.2065 - val_accuracy: 0.5814\n",
      "Epoch 4/40\n",
      "188/188 [==============================] - 10s 51ms/step - loss: 1.0840 - accuracy: 0.6151 - val_loss: 1.1023 - val_accuracy: 0.6188\n",
      "Epoch 5/40\n",
      "188/188 [==============================] - 11s 57ms/step - loss: 0.9882 - accuracy: 0.6468 - val_loss: 0.9949 - val_accuracy: 0.6315\n",
      "Epoch 6/40\n",
      "188/188 [==============================] - 10s 53ms/step - loss: 0.9551 - accuracy: 0.6667 - val_loss: 0.9725 - val_accuracy: 0.6469\n",
      "Epoch 7/40\n",
      "188/188 [==============================] - 11s 56ms/step - loss: 0.8615 - accuracy: 0.6949 - val_loss: 0.8493 - val_accuracy: 0.6943\n",
      "Epoch 8/40\n",
      "188/188 [==============================] - 10s 51ms/step - loss: 0.8335 - accuracy: 0.7102 - val_loss: 0.9988 - val_accuracy: 0.6615\n",
      "Epoch 9/40\n",
      "188/188 [==============================] - 10s 53ms/step - loss: 0.8061 - accuracy: 0.7177 - val_loss: 1.1571 - val_accuracy: 0.6121\n",
      "Epoch 10/40\n",
      "188/188 [==============================] - 11s 61ms/step - loss: 0.7894 - accuracy: 0.7253 - val_loss: 0.8294 - val_accuracy: 0.7143\n",
      "Epoch 11/40\n",
      "188/188 [==============================] - 11s 61ms/step - loss: 0.7242 - accuracy: 0.7501 - val_loss: 0.8067 - val_accuracy: 0.7136\n",
      "Epoch 12/40\n",
      "188/188 [==============================] - 10s 52ms/step - loss: 0.6733 - accuracy: 0.7648 - val_loss: 0.7191 - val_accuracy: 0.7563\n",
      "Epoch 13/40\n",
      "188/188 [==============================] - 10s 51ms/step - loss: 0.6726 - accuracy: 0.7668 - val_loss: 0.8476 - val_accuracy: 0.7103\n",
      "Epoch 14/40\n",
      "188/188 [==============================] - 10s 53ms/step - loss: 0.6370 - accuracy: 0.7762 - val_loss: 0.7095 - val_accuracy: 0.7684\n",
      "Epoch 15/40\n",
      "188/188 [==============================] - 10s 51ms/step - loss: 0.6137 - accuracy: 0.7890 - val_loss: 1.0260 - val_accuracy: 0.6629\n",
      "Epoch 16/40\n",
      "188/188 [==============================] - 10s 54ms/step - loss: 0.6238 - accuracy: 0.7895 - val_loss: 0.7211 - val_accuracy: 0.7457\n",
      "Epoch 17/40\n",
      "188/188 [==============================] - 11s 56ms/step - loss: 0.5982 - accuracy: 0.7920 - val_loss: 0.7087 - val_accuracy: 0.7583\n",
      "Epoch 18/40\n",
      "188/188 [==============================] - 10s 53ms/step - loss: 0.5616 - accuracy: 0.8105 - val_loss: 0.7528 - val_accuracy: 0.7530\n",
      "Epoch 19/40\n",
      "188/188 [==============================] - 10s 52ms/step - loss: 0.5390 - accuracy: 0.8099 - val_loss: 0.7646 - val_accuracy: 0.7397\n",
      "Epoch 20/40\n",
      "188/188 [==============================] - 10s 56ms/step - loss: 0.5196 - accuracy: 0.8219 - val_loss: 0.7054 - val_accuracy: 0.7630\n",
      "Epoch 21/40\n",
      "188/188 [==============================] - 9s 50ms/step - loss: 0.4952 - accuracy: 0.8239 - val_loss: 0.8349 - val_accuracy: 0.7336\n",
      "Epoch 22/40\n",
      "188/188 [==============================] - 9s 50ms/step - loss: 0.4994 - accuracy: 0.8311 - val_loss: 0.6652 - val_accuracy: 0.7784\n",
      "Epoch 23/40\n",
      "188/188 [==============================] - 9s 50ms/step - loss: 0.4979 - accuracy: 0.8267 - val_loss: 0.6809 - val_accuracy: 0.7684\n",
      "Epoch 24/40\n",
      "188/188 [==============================] - 10s 51ms/step - loss: 0.4583 - accuracy: 0.8384 - val_loss: 0.8797 - val_accuracy: 0.7063\n",
      "Epoch 25/40\n",
      "188/188 [==============================] - 10s 51ms/step - loss: 0.4470 - accuracy: 0.8429 - val_loss: 0.6723 - val_accuracy: 0.7757\n",
      "Epoch 26/40\n",
      "188/188 [==============================] - 10s 51ms/step - loss: 0.4322 - accuracy: 0.8526 - val_loss: 0.7191 - val_accuracy: 0.7684\n",
      "Epoch 27/40\n",
      "188/188 [==============================] - 10s 51ms/step - loss: 0.4432 - accuracy: 0.8429 - val_loss: 0.7581 - val_accuracy: 0.7603\n",
      "Epoch 28/40\n",
      "188/188 [==============================] - 10s 51ms/step - loss: 0.4054 - accuracy: 0.8595 - val_loss: 0.7940 - val_accuracy: 0.7597\n",
      "Epoch 29/40\n",
      "188/188 [==============================] - 10s 54ms/step - loss: 0.4114 - accuracy: 0.8566 - val_loss: 0.7271 - val_accuracy: 0.7664\n",
      "Epoch 30/40\n",
      "188/188 [==============================] - 10s 55ms/step - loss: 0.3827 - accuracy: 0.8655 - val_loss: 0.8919 - val_accuracy: 0.7403\n",
      "Epoch 31/40\n",
      "188/188 [==============================] - 10s 54ms/step - loss: 0.3874 - accuracy: 0.8615 - val_loss: 0.7795 - val_accuracy: 0.7630\n",
      "Epoch 32/40\n",
      "188/188 [==============================] - 10s 53ms/step - loss: 0.3752 - accuracy: 0.8621 - val_loss: 0.9836 - val_accuracy: 0.7256\n",
      "Epoch 33/40\n",
      "188/188 [==============================] - 10s 52ms/step - loss: 0.3641 - accuracy: 0.8733 - val_loss: 0.8218 - val_accuracy: 0.7563\n",
      "Epoch 34/40\n",
      "188/188 [==============================] - 10s 55ms/step - loss: 0.3595 - accuracy: 0.8728 - val_loss: 0.7094 - val_accuracy: 0.7790\n",
      "Epoch 35/40\n",
      "188/188 [==============================] - 10s 51ms/step - loss: 0.3627 - accuracy: 0.8780 - val_loss: 0.6861 - val_accuracy: 0.7937\n",
      "Epoch 36/40\n",
      "188/188 [==============================] - 10s 51ms/step - loss: 0.3433 - accuracy: 0.8761 - val_loss: 0.7123 - val_accuracy: 0.7697\n",
      "Epoch 37/40\n",
      "188/188 [==============================] - 9s 50ms/step - loss: 0.3546 - accuracy: 0.8787 - val_loss: 0.6947 - val_accuracy: 0.7777\n",
      "Epoch 38/40\n",
      "188/188 [==============================] - 11s 57ms/step - loss: 0.3294 - accuracy: 0.8867 - val_loss: 0.8472 - val_accuracy: 0.7330\n",
      "Epoch 39/40\n",
      "188/188 [==============================] - 10s 54ms/step - loss: 0.3206 - accuracy: 0.8858 - val_loss: 0.7054 - val_accuracy: 0.7857\n",
      "Epoch 40/40\n",
      "188/188 [==============================] - 11s 56ms/step - loss: 0.3003 - accuracy: 0.8900 - val_loss: 0.6888 - val_accuracy: 0.7964\n"
     ]
    }
   ],
   "source": [
    "optimizer = optimizers.Adam()\n",
    "optimizer.build(model.trainable_variables)\n",
    "\n",
    "model.compile(optimizer=optimizer,\n",
    "              loss=\"sparse_categorical_crossentropy\",\n",
    "              metrics=[\"accuracy\"])\n",
    "\n",
    "hist = model.fit(X_train, y_train,\n",
    "                 validation_data = (X_val, y_val),\n",
    "                 epochs = 40,\n",
    "                 batch_size = 32)"
   ]
  },
  {
   "cell_type": "code",
   "execution_count": 30,
   "metadata": {},
   "outputs": [
    {
     "data": {
      "text/plain": [
       "<Figure size 1440x1080 with 0 Axes>"
      ]
     },
     "metadata": {},
     "output_type": "display_data"
    },
    {
     "data": {
      "image/png": "[encoded data removed]",
      "text/plain": [
       "<Figure size 432x288 with 2 Axes>"
      ]
     },
     "metadata": {
      "needs_background": "light"
     },
     "output_type": "display_data"
    }
   ],
   "source": [
    "plot_history(hist)"
   ]
  },
  {
   "cell_type": "code",
   "execution_count": 31,
   "metadata": {},
   "outputs": [
    {
     "name": "stdout",
     "output_type": "stream",
     "text": [
      "79/79 [==============================] - 1s 13ms/step - loss: 0.7929 - accuracy: 0.7629\n",
      "Test accuracy: 0.7629154920578003\n"
     ]
    }
   ],
   "source": [
    "test_error, test_accuracy = model.evaluate(X_test, y_test, verbose=1)\n",
    "print(f\"Test accuracy: {test_accuracy}\")"
   ]
  },
  {
   "cell_type": "code",
   "execution_count": 32,
   "metadata": {},
   "outputs": [],
   "source": [
    "def predict(model, X, y):\n",
    "    X = X[np.newaxis,...]\n",
    "    prediction = model.predict(X)\n",
    "    predicted_index = np.argmax(prediction, axis=1)\n",
    "    print(f\"Expected index: {y}, Predicted index: {predicted_index}\")"
   ]
  },
  {
   "cell_type": "code",
   "execution_count": 33,
   "metadata": {},
   "outputs": [
    {
     "name": "stdout",
     "output_type": "stream",
     "text": [
      "1/1 [==============================] - 0s 134ms/step\n",
      "Expected index: 9, Predicted index: [9]\n"
     ]
    }
   ],
   "source": [
    "predict(model, X_test[10], y_test[10])"
   ]
  },
  {
   "cell_type": "markdown",
   "metadata": {},
   "source": [
    "As we can see the accuracy has improved by Significant amount but still the accuracy is not enough, in the future of this notebook I am planning to implement RNN model in this and finally use the ensembling to get a push in accuracy. However any other suggestions are always invited!"
   ]
  },
  {
   "cell_type": "code",
   "execution_count": null,
   "metadata": {},
   "outputs": [],
   "source": []
  }
 ],
 "metadata": {
  "kernelspec": {
   "display_name": ".venv",
   "language": "python",
   "name": "python3"
  },
  "language_info": {
   "codemirror_mode": {
    "name": "ipython",
    "version": 3
   },
   "file_extension": ".py",
   "mimetype": "text/x-python",
   "name": "python",
   "nbconvert_exporter": "python",
   "pygments_lexer": "ipython3",
   "version": "3.12.2"
  }
 },
 "nbformat": 4,
 "nbformat_minor": 4
}
